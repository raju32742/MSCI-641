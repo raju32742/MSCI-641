{
 "cells": [
  {
   "cell_type": "code",
   "execution_count": 1,
   "id": "66d2426e-2ce1-4c3c-94b5-69770b60cbd1",
   "metadata": {},
   "outputs": [],
   "source": [
    "import os\n",
    "import sys\n",
    "import torch\n",
    "import torch.nn as nn\n",
    "import torch.optim as optim\n",
    "from torch.utils.data import DataLoader, TensorDataset\n",
    "import numpy as np\n",
    "import gensim\n",
    "from gensim.models import Word2Vec\n",
    "from sklearn.preprocessing import LabelEncoder"
   ]
  },
  {
   "cell_type": "code",
   "execution_count": 24,
   "id": "bbe3f6cc-49c5-4b80-83ef-7ee4514de96e",
   "metadata": {},
   "outputs": [],
   "source": [
    "# Function to read file content line by line and append\n",
    "def read_file(file_path):\n",
    "    lines = []\n",
    "    with open(file_path, 'r', encoding='utf-8') as file:\n",
    "        for line in file:\n",
    "            lines.append(line.strip())\n",
    "    return lines\n",
    "    \n",
    "# Function to preprocess the text\n",
    "def preprocess(text):\n",
    "    tokens = gensim.utils.simple_preprocess(text)\n",
    "    return tokens\n",
    "\n",
    "# Load the trained Word2Vec model\n",
    "def load_word2vec_model(model_path):\n",
    "    return Word2Vec.load(model_path)"
   ]
  },
  {
   "cell_type": "code",
   "execution_count": 40,
   "id": "cbe05683-86d4-4b76-b691-f43b308de70c",
   "metadata": {},
   "outputs": [],
   "source": [
    "file_path = \"/Users/raju/Raju Mac/UW/UW/Spring 24/MSCI 641/Assignment/a1/data/train.csv\"\n",
    "labels_path = \"/Users/raju/Raju Mac/UW/UW/Spring 24/MSCI 641/Assignment/a1/data/train_labels.csv\"\n",
    "model_path = \"/Users/raju/Raju Mac/UW/UW/Spring 24/MSCI 641/Assignment/a3/data\"\n",
    "word2vec_model = load_word2vec_model(os.path.join(model_path, 'w2v.model'))\n",
    "data = read_file(file_path)\n",
    "labels = read_file(labels_path)\n",
    "labels = LabelEncoder().fit_transform(labels)\n",
    "\n",
    "tokenized_data = [preprocess(line) for line in data]\n",
    "word_indices = [[word2vec_model.wv.key_to_index.get(word, 0) for word in line] for line in tokenized_data]\n",
    "max_length = max(len(line) for line in word_indices)\n",
    "\n",
    "padded_data = [line + [0] * (max_length - len(line)) for line in word_indices]"
   ]
  },
  {
   "cell_type": "code",
   "execution_count": 26,
   "id": "33fc9c18-f9ad-4799-a76d-4ef96bdca015",
   "metadata": {},
   "outputs": [
    {
     "name": "stdout",
     "output_type": "stream",
     "text": [
      "I,especially,am,impressed,that,they,have,the,confidence,to,put,a,THREE,YEARS,WARRANTY,on,this,product.\n"
     ]
    }
   ],
   "source": [
    "print(data[2])"
   ]
  },
  {
   "cell_type": "code",
   "execution_count": 29,
   "id": "8b0b9924-6b4b-472a-92ac-385deab64181",
   "metadata": {},
   "outputs": [
    {
     "name": "stdout",
     "output_type": "stream",
     "text": [
      "['this', 'mount', 'was', 'perfect', 'until', 'my', 'phone', 'died', 'off', 'entirely']\n"
     ]
    }
   ],
   "source": [
    "print(tokenized_data[2])"
   ]
  },
  {
   "cell_type": "code",
   "execution_count": 28,
   "id": "91a0d79c-6c04-4c34-a2d7-f3331f536a21",
   "metadata": {},
   "outputs": [
    {
     "data": {
      "text/plain": [
       "[405, 88, 831, 10, 22, 14, 0, 4191, 3, 114, 288, 106, 917, 13, 4, 53]"
      ]
     },
     "execution_count": 28,
     "metadata": {},
     "output_type": "execute_result"
    }
   ],
   "source": [
    "word_indices[0]"
   ]
  },
  {
   "cell_type": "code",
   "execution_count": 31,
   "id": "727dc5a4-f60a-4183-9ece-afcd30daf8dd",
   "metadata": {},
   "outputs": [
    {
     "data": {
      "text/plain": [
       "37"
      ]
     },
     "execution_count": 31,
     "metadata": {},
     "output_type": "execute_result"
    }
   ],
   "source": [
    "max_length"
   ]
  },
  {
   "cell_type": "code",
   "execution_count": 43,
   "id": "a1183ed7-ab38-4cd9-bbb5-8ffa415aa988",
   "metadata": {},
   "outputs": [
    {
     "data": {
      "text/plain": [
       "array([[  405,    88,   831,    10,    22,    14,     0,  4191,     3,\n",
       "          114,   288,   106,   917,    13,     4,    53,     0,     0,\n",
       "            0,     0,     0,     0,     0,     0,     0,     0,     0,\n",
       "            0,     0,     0,     0,     0,     0,     0,     0,     0,\n",
       "            0],\n",
       "       [ 1801,    17,  1304,     3,  3138,  1961,    45,    31,    82,\n",
       "         1917,   533,     2,   109,    71,   577,    42,   197,   112,\n",
       "          554,   539,     0,     0,     0,     0,     0,     0,     0,\n",
       "            0,     0,     0,     0,     0,     0,     0,     0,     0,\n",
       "            0],\n",
       "       [    4,   866,    17,   165,   311,     8,    52,  1079,    74,\n",
       "         2199,     0,     0,     0,     0,     0,     0,     0,     0,\n",
       "            0,     0,     0,     0,     0,     0,     0,     0,     0,\n",
       "            0,     0,     0,     0,     0,     0,     0,     0,     0,\n",
       "            0],\n",
       "       [  264,   244,   111,    55, 31441,     6,  3225,   344,     3,\n",
       "           44,     4,  4330,     2,  1822,  1471,  4478,     9,     8,\n",
       "         1205,     6,   725,   332,     0,     0,     0,     0,     0,\n",
       "            0,     0,     0,     0,     0,     0,     0,     0,     0,\n",
       "            0],\n",
       "       [ 1023,     1,     0,   127,   163,    91,     1,     0,     0,\n",
       "            0,     0,     0,     0,     0,     0,     0,     0,     0,\n",
       "            0,     0,     0,     0,     0,     0,     0,     0,     0,\n",
       "            0,     0,     0,     0,     0,     0,     0,     0,     0,\n",
       "            0]])"
      ]
     },
     "execution_count": 43,
     "metadata": {},
     "output_type": "execute_result"
    }
   ],
   "source": [
    "np.array(padded_data[0:5])"
   ]
  },
  {
   "cell_type": "code",
   "execution_count": 46,
   "id": "24f21d44-22c3-4f89-8cfc-83c47a8cc6d2",
   "metadata": {},
   "outputs": [
    {
     "ename": "FileNotFoundError",
     "evalue": "[Errno 2] No such file or directory: 'alice.txt'",
     "output_type": "error",
     "traceback": [
      "\u001b[0;31m---------------------------------------------------------------------------\u001b[0m",
      "\u001b[0;31mFileNotFoundError\u001b[0m                         Traceback (most recent call last)",
      "Cell \u001b[0;32mIn[46], line 24\u001b[0m\n\u001b[1;32m     21\u001b[0m path \u001b[38;5;241m=\u001b[39m \u001b[38;5;124m'\u001b[39m\u001b[38;5;124malice.txt\u001b[39m\u001b[38;5;124m'\u001b[39m\n\u001b[1;32m     23\u001b[0m \u001b[38;5;66;03m# Load and preprocess the text\u001b[39;00m\n\u001b[0;32m---> 24\u001b[0m \u001b[38;5;28;01mwith\u001b[39;00m \u001b[38;5;28;43mopen\u001b[39;49m\u001b[43m(\u001b[49m\u001b[43mpath\u001b[49m\u001b[43m,\u001b[49m\u001b[43m \u001b[49m\u001b[38;5;124;43m'\u001b[39;49m\u001b[38;5;124;43mr\u001b[39;49m\u001b[38;5;124;43m'\u001b[39;49m\u001b[43m,\u001b[49m\u001b[43m \u001b[49m\u001b[43mencoding\u001b[49m\u001b[38;5;241;43m=\u001b[39;49m\u001b[38;5;124;43m'\u001b[39;49m\u001b[38;5;124;43mutf-8\u001b[39;49m\u001b[38;5;124;43m'\u001b[39;49m\u001b[43m)\u001b[49m \u001b[38;5;28;01mas\u001b[39;00m file:\n\u001b[1;32m     25\u001b[0m     text \u001b[38;5;241m=\u001b[39m file\u001b[38;5;241m.\u001b[39mread()\n\u001b[1;32m     27\u001b[0m \u001b[38;5;66;03m# Convert to lowercase\u001b[39;00m\n",
      "File \u001b[0;32m~/raju/lib/python3.11/site-packages/IPython/core/interactiveshell.py:324\u001b[0m, in \u001b[0;36m_modified_open\u001b[0;34m(file, *args, **kwargs)\u001b[0m\n\u001b[1;32m    317\u001b[0m \u001b[38;5;28;01mif\u001b[39;00m file \u001b[38;5;129;01min\u001b[39;00m {\u001b[38;5;241m0\u001b[39m, \u001b[38;5;241m1\u001b[39m, \u001b[38;5;241m2\u001b[39m}:\n\u001b[1;32m    318\u001b[0m     \u001b[38;5;28;01mraise\u001b[39;00m \u001b[38;5;167;01mValueError\u001b[39;00m(\n\u001b[1;32m    319\u001b[0m         \u001b[38;5;124mf\u001b[39m\u001b[38;5;124m\"\u001b[39m\u001b[38;5;124mIPython won\u001b[39m\u001b[38;5;124m'\u001b[39m\u001b[38;5;124mt let you open fd=\u001b[39m\u001b[38;5;132;01m{\u001b[39;00mfile\u001b[38;5;132;01m}\u001b[39;00m\u001b[38;5;124m by default \u001b[39m\u001b[38;5;124m\"\u001b[39m\n\u001b[1;32m    320\u001b[0m         \u001b[38;5;124m\"\u001b[39m\u001b[38;5;124mas it is likely to crash IPython. If you know what you are doing, \u001b[39m\u001b[38;5;124m\"\u001b[39m\n\u001b[1;32m    321\u001b[0m         \u001b[38;5;124m\"\u001b[39m\u001b[38;5;124myou can use builtins\u001b[39m\u001b[38;5;124m'\u001b[39m\u001b[38;5;124m open.\u001b[39m\u001b[38;5;124m\"\u001b[39m\n\u001b[1;32m    322\u001b[0m     )\n\u001b[0;32m--> 324\u001b[0m \u001b[38;5;28;01mreturn\u001b[39;00m \u001b[43mio_open\u001b[49m\u001b[43m(\u001b[49m\u001b[43mfile\u001b[49m\u001b[43m,\u001b[49m\u001b[43m \u001b[49m\u001b[38;5;241;43m*\u001b[39;49m\u001b[43margs\u001b[49m\u001b[43m,\u001b[49m\u001b[43m \u001b[49m\u001b[38;5;241;43m*\u001b[39;49m\u001b[38;5;241;43m*\u001b[39;49m\u001b[43mkwargs\u001b[49m\u001b[43m)\u001b[49m\n",
      "\u001b[0;31mFileNotFoundError\u001b[0m: [Errno 2] No such file or directory: 'alice.txt'"
     ]
    }
   ],
   "source": []
  },
  {
   "cell_type": "code",
   "execution_count": null,
   "id": "b927c287-a91c-484c-9b7e-e26c5e27a67d",
   "metadata": {},
   "outputs": [],
   "source": []
  }
 ],
 "metadata": {
  "kernelspec": {
   "display_name": "Python 3 (ipykernel)",
   "language": "python",
   "name": "python3"
  },
  "language_info": {
   "codemirror_mode": {
    "name": "ipython",
    "version": 3
   },
   "file_extension": ".py",
   "mimetype": "text/x-python",
   "name": "python",
   "nbconvert_exporter": "python",
   "pygments_lexer": "ipython3",
   "version": "3.11.8"
  }
 },
 "nbformat": 4,
 "nbformat_minor": 5
}
